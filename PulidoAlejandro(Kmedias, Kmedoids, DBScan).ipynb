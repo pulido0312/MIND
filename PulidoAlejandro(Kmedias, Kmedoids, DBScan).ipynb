{
 "cells": [
  {
   "cell_type": "code",
   "execution_count": 1,
   "id": "d531253c",
   "metadata": {},
   "outputs": [],
   "source": [
    "import numpy as np\n",
    "import pandas as pd\n",
    "from sklearn.cluster import AgglomerativeClustering as AC\n",
    "from sklearn.cluster import KMeans, DBSCAN\n",
    "from statistics import mode\n",
    "from sklearn_extra.cluster import KMedoids\n",
    "from sklearn.preprocessing import StandardScaler\n",
    "from sklearn.metrics import pairwise_distances\n",
    "from sklearn.metrics import accuracy_score"
   ]
  },
  {
   "cell_type": "code",
   "execution_count": 2,
   "id": "9d04f4a2",
   "metadata": {},
   "outputs": [
    {
     "data": {
      "text/html": [
       "<div>\n",
       "<style scoped>\n",
       "    .dataframe tbody tr th:only-of-type {\n",
       "        vertical-align: middle;\n",
       "    }\n",
       "\n",
       "    .dataframe tbody tr th {\n",
       "        vertical-align: top;\n",
       "    }\n",
       "\n",
       "    .dataframe thead th {\n",
       "        text-align: right;\n",
       "    }\n",
       "</style>\n",
       "<table border=\"1\" class=\"dataframe\">\n",
       "  <thead>\n",
       "    <tr style=\"text-align: right;\">\n",
       "      <th></th>\n",
       "      <th>area</th>\n",
       "      <th>perimeter</th>\n",
       "      <th>compactness</th>\n",
       "      <th>kernel_length</th>\n",
       "      <th>kernel_width</th>\n",
       "      <th>asymmetry</th>\n",
       "      <th>length_groove</th>\n",
       "      <th>class</th>\n",
       "    </tr>\n",
       "  </thead>\n",
       "  <tbody>\n",
       "    <tr>\n",
       "      <th>0</th>\n",
       "      <td>15.26</td>\n",
       "      <td>14.84</td>\n",
       "      <td>0.8710</td>\n",
       "      <td>5.763</td>\n",
       "      <td>3.312</td>\n",
       "      <td>2.221</td>\n",
       "      <td>5.220</td>\n",
       "      <td>1</td>\n",
       "    </tr>\n",
       "    <tr>\n",
       "      <th>1</th>\n",
       "      <td>14.88</td>\n",
       "      <td>14.57</td>\n",
       "      <td>0.8811</td>\n",
       "      <td>5.554</td>\n",
       "      <td>3.333</td>\n",
       "      <td>1.018</td>\n",
       "      <td>4.956</td>\n",
       "      <td>1</td>\n",
       "    </tr>\n",
       "    <tr>\n",
       "      <th>2</th>\n",
       "      <td>14.29</td>\n",
       "      <td>14.09</td>\n",
       "      <td>0.9050</td>\n",
       "      <td>5.291</td>\n",
       "      <td>3.337</td>\n",
       "      <td>2.699</td>\n",
       "      <td>4.825</td>\n",
       "      <td>1</td>\n",
       "    </tr>\n",
       "    <tr>\n",
       "      <th>3</th>\n",
       "      <td>13.84</td>\n",
       "      <td>13.94</td>\n",
       "      <td>0.8955</td>\n",
       "      <td>5.324</td>\n",
       "      <td>3.379</td>\n",
       "      <td>2.259</td>\n",
       "      <td>4.805</td>\n",
       "      <td>1</td>\n",
       "    </tr>\n",
       "    <tr>\n",
       "      <th>4</th>\n",
       "      <td>16.14</td>\n",
       "      <td>14.99</td>\n",
       "      <td>0.9034</td>\n",
       "      <td>5.658</td>\n",
       "      <td>3.562</td>\n",
       "      <td>1.355</td>\n",
       "      <td>5.175</td>\n",
       "      <td>1</td>\n",
       "    </tr>\n",
       "  </tbody>\n",
       "</table>\n",
       "</div>"
      ],
      "text/plain": [
       "    area  perimeter  compactness  kernel_length  kernel_width  asymmetry  \\\n",
       "0  15.26      14.84       0.8710          5.763         3.312      2.221   \n",
       "1  14.88      14.57       0.8811          5.554         3.333      1.018   \n",
       "2  14.29      14.09       0.9050          5.291         3.337      2.699   \n",
       "3  13.84      13.94       0.8955          5.324         3.379      2.259   \n",
       "4  16.14      14.99       0.9034          5.658         3.562      1.355   \n",
       "\n",
       "   length_groove  class  \n",
       "0          5.220      1  \n",
       "1          4.956      1  \n",
       "2          4.825      1  \n",
       "3          4.805      1  \n",
       "4          5.175      1  "
      ]
     },
     "execution_count": 2,
     "metadata": {},
     "output_type": "execute_result"
    }
   ],
   "source": [
    "columnas = ['area','perimeter','compactness','kernel_length','kernel_width','asymmetry','length_groove','class']\n",
    "df = pd.read_csv('seeds_dataset.txt', names=columnas, delimiter='\\s+')\n",
    "df.head()"
   ]
  },
  {
   "cell_type": "code",
   "execution_count": 5,
   "id": "8d153918",
   "metadata": {
    "scrolled": true
   },
   "outputs": [],
   "source": [
    "X = df.iloc[:,:-1]\n",
    "y = df[columnas[-1]].values"
   ]
  },
  {
   "cell_type": "code",
   "execution_count": 15,
   "id": "e3db21de",
   "metadata": {},
   "outputs": [],
   "source": [
    "escalado = StandardScaler()\n",
    "X_scaled = escalado.fit_transform(X)"
   ]
  },
  {
   "cell_type": "markdown",
   "id": "6af41125",
   "metadata": {},
   "source": [
    "# Kmedias"
   ]
  },
  {
   "cell_type": "code",
   "execution_count": 16,
   "id": "081cf271",
   "metadata": {},
   "outputs": [
    {
     "data": {
      "text/plain": [
       "array([[-9.53410084e-01, -1.02029413e+00, -1.95077168e-01,\n",
       "        -1.19801941e+00, -8.56137823e-01, -1.52349476e+00,\n",
       "        -9.11815834e-01],\n",
       "       [ 1.07913593e+00,  9.90688609e-01,  1.20058210e+00,\n",
       "         7.92897905e-01,  1.13688764e+00, -9.62151312e-01,\n",
       "         1.04205443e+00],\n",
       "       [-6.74365631e-01, -6.05816775e-01, -7.16858596e-01,\n",
       "        -3.02106620e-01, -6.17293227e-01,  1.65656256e+00,\n",
       "        -1.87782491e-01],\n",
       "       [-1.23589953e+00, -1.18915528e+00, -1.50589393e+00,\n",
       "        -1.00119009e+00, -1.45590314e+00,  1.08988568e+00,\n",
       "        -6.44637333e-01],\n",
       "       [-2.54076455e-01, -2.91121002e-01,  4.66694399e-01,\n",
       "        -1.98035942e-01, -9.97966019e-02, -6.30812006e-01,\n",
       "        -7.54771982e-01],\n",
       "       [ 1.40985528e+00,  1.48192103e+00,  1.69745619e-01,\n",
       "         1.84717912e+00,  1.00950386e+00,  9.09215755e-01,\n",
       "         1.94556646e+00],\n",
       "       [ 2.90232479e-01,  1.46382877e-01,  1.47632025e+00,\n",
       "        -2.29709627e-01,  6.77775250e-01, -1.40082589e+00,\n",
       "        -7.38455738e-01],\n",
       "       [ 4.29803920e-03,  8.49788237e-02, -1.44171663e-01,\n",
       "         1.11913686e-01, -1.60493459e-03, -1.04748618e+00,\n",
       "        -1.16398922e-01],\n",
       "       [-1.24278952e+00, -1.19683079e+00, -1.48892542e+00,\n",
       "        -1.21838107e+00, -1.44263400e+00, -1.19469455e-01,\n",
       "        -6.52795455e-01],\n",
       "       [ 4.90829514e-02,  5.48250475e-04,  7.33948301e-01,\n",
       "        -1.32426167e-01,  3.14200698e-01, -4.94809554e-01,\n",
       "        -4.75356297e-01],\n",
       "       [ 2.24777607e-01,  2.30813450e-01,  4.66694399e-01,\n",
       "         5.62132488e-01,  3.64623446e-01,  6.73878179e-01,\n",
       "         2.44597985e-01],\n",
       "       [ 2.10918891e+00,  2.06525954e+00,  6.32137291e-01,\n",
       "         2.11414303e+00,  1.94365161e+00,  6.51211104e-01,\n",
       "         1.85174805e+00],\n",
       "       [-7.50155482e-01, -9.51214575e-01,  1.13270809e+00,\n",
       "        -1.45819611e+00, -3.28025883e-01, -9.33484129e-01,\n",
       "        -1.35235443e+00],\n",
       "       [-1.13254973e+00, -9.58890081e-01, -2.17190762e+00,\n",
       "        -6.00744218e-01, -1.52755652e+00,  2.41203713e-01,\n",
       "        -4.61079584e-01],\n",
       "       [-8.50060287e-01, -8.59108495e-01, -4.28394067e-01,\n",
       "        -9.26530688e-01, -7.15484894e-01,  1.18122066e+00,\n",
       "        -7.40495268e-01],\n",
       "       [ 1.60621990e+00,  1.65078218e+00,  2.97009382e-01,\n",
       "         1.66844904e+00,  1.43942413e+00, -4.92142840e-01,\n",
       "         1.58456955e+00],\n",
       "       [ 5.48606973e-01,  5.30158210e-01,  7.21221925e-01,\n",
       "         5.77969331e-01,  6.53890791e-01, -1.15415477e+00,\n",
       "         2.54795637e-01],\n",
       "       [ 8.65546352e-01,  9.21609049e-01,  3.18220009e-01,\n",
       "         1.16845731e+00,  8.37004981e-01, -1.16136062e-01,\n",
       "         1.14811002e+00],\n",
       "       [ 1.48220014e+00,  1.45121901e+00,  7.63643179e-01,\n",
       "         1.39469791e+00,  1.47657773e+00, -4.10808040e-01,\n",
       "         1.58456955e+00],\n",
       "       [-5.67570840e-01, -6.90247348e-01,  7.33948301e-01,\n",
       "        -8.88069786e-01, -7.06044846e-02,  3.07658816e+00,\n",
       "        -7.18060432e-01],\n",
       "       [-2.60966441e-01, -1.14584349e-01, -7.67764101e-01,\n",
       "         2.00147521e-01, -1.92680612e-01,  1.46535340e-01,\n",
       "        -2.22454510e-01],\n",
       "       [-1.25312450e+00, -1.09704920e+00, -2.30341351e+00,\n",
       "        -7.90786326e-01, -1.51694121e+00,  1.64589570e+00,\n",
       "        -2.71403243e-01],\n",
       "       [ 4.52147162e-01,  5.91562263e-01, -2.79919677e-01,\n",
       "         4.89735495e-01,  3.61969617e-01,  3.77206165e-01,\n",
       "         7.89152640e-01],\n",
       "       [-7.32930516e-01, -7.59326908e-01, -1.01750409e-01,\n",
       "        -9.10693846e-01, -5.56255164e-01,  2.67870860e-01,\n",
       "        -1.00767377e+00],\n",
       "       [-8.87167785e-02, -2.14365936e-01,  1.20058210e+00,\n",
       "        -6.27893091e-01,  1.97432229e-01,  3.23205191e-01,\n",
       "        -1.27893133e+00],\n",
       "       [ 1.33406543e+00,  1.25165584e+00,  1.13270809e+00,\n",
       "         8.53982868e-01,  1.58803854e+00,  1.08255221e+00,\n",
       "         9.60473205e-01],\n",
       "       [-7.67380449e-01, -6.82571842e-01, -9.71386121e-01,\n",
       "        -4.94411134e-01, -9.22483544e-01, -2.62805372e-01,\n",
       "        -3.61142587e-01],\n",
       "       [ 2.48892560e-01,  4.53403143e-01, -7.76248352e-01,\n",
       "         6.59415948e-01, -7.32583134e-02, -7.06813376e-01,\n",
       "         9.60473205e-01],\n",
       "       [-1.23245454e+00, -1.30428788e+00, -6.23531836e-01,\n",
       "        -1.21611866e+00, -1.20644323e+00,  1.89869454e-01,\n",
       "        -8.30234612e-01],\n",
       "       [-1.13599473e+00, -1.12007572e+00, -1.08168138e+00,\n",
       "        -1.04417580e+00, -1.09763625e+00,  2.00990226e+00,\n",
       "        -9.22013487e-01]])"
      ]
     },
     "execution_count": 16,
     "metadata": {},
     "output_type": "execute_result"
    }
   ],
   "source": [
    "kmedias_init = KMeans(n_clusters=30) #n_clusters = 12 + (12*1.5)\n",
    "kmedias_init.fit(X_scaled)\n",
    "#Asignamos etiquetas a los puntos de datos escalados basándose en cuál de los centros de clúster iniciales está más cerca de cada punto.\n",
    "kmedias_init_centros = X_scaled[np.argmin(pairwise_distances(kmedias_init.cluster_centers_, X_scaled),axis=1)]\n",
    "kmedias_init_centros"
   ]
  },
  {
   "cell_type": "code",
   "execution_count": 17,
   "id": "2864f7d2",
   "metadata": {},
   "outputs": [
    {
     "data": {
      "text/plain": [
       "(12, 7)"
      ]
     },
     "execution_count": 17,
     "metadata": {},
     "output_type": "execute_result"
    }
   ],
   "source": [
    "ward_init = AC(n_clusters=12, linkage='ward')\n",
    "ward_init.fit(kmedias_init_centros)\n",
    "\n",
    "#Generamos baricentros para cada uno de los 12 clusters después de aplicar el método de enlace Ward a los centros de clúster iniciales proporcionados por k-medias\n",
    "ward_baricentros = np.array([np.mean(kmedias_init_centros[ward_init.labels_ == 1], axis=0) for i in range(12)])\n",
    "ward_baricentros.shape"
   ]
  },
  {
   "cell_type": "code",
   "execution_count": 18,
   "id": "bb9aed69",
   "metadata": {},
   "outputs": [
    {
     "name": "stderr",
     "output_type": "stream",
     "text": [
      "/home/alejandro/anaconda3/lib/python3.9/site-packages/sklearn/cluster/_kmeans.py:1146: RuntimeWarning: Explicit initial center position passed: performing only one init in KMeans instead of n_init=10.\n",
      "  self._check_params(X)\n"
     ]
    },
    {
     "data": {
      "text/plain": [
       "array([ 8,  8,  8,  8,  8,  8,  8,  8,  5,  9, 11,  8,  8,  8,  8,  8, 10,\n",
       "        8,  8, 10,  8,  8,  8,  8,  8,  8,  8,  8,  8,  8,  8, 11, 11,  8,\n",
       "        8,  8, 11,  9,  8, 10,  8,  8,  8, 11,  8,  8,  8,  8,  8,  8,  8,\n",
       "       11, 11,  8,  8,  8,  8,  8,  8,  0,  0,  8,  8, 10,  8,  8,  8,  8,\n",
       "        8,  0,  5,  5,  5,  9,  5, 11,  5,  4,  6,  9, 11,  3,  1,  7,  2,\n",
       "        9,  9,  2,  1,  1,  7,  9,  9,  3,  6,  5,  2,  7,  2,  7, 11,  9,\n",
       "        3,  2,  2,  9,  9,  5,  2,  9,  9,  2,  9,  6,  4,  7,  3,  2,  9,\n",
       "        2,  1,  5, 11,  9,  8,  3,  6,  9,  7,  3,  9,  9, 11, 11, 11,  8,\n",
       "        5, 11, 11,  5,  0, 10, 10, 10,  0,  0,  0, 10,  0,  0,  0,  0,  0,\n",
       "        0,  0,  0,  0,  0,  0,  0,  0,  0,  0,  0,  0,  8,  0,  0,  0,  0,\n",
       "        0,  0,  0,  0,  0,  0,  0,  0,  0,  0,  0, 10,  0,  0, 10,  0,  0,\n",
       "        0, 10,  0,  0,  0, 10,  0, 10, 10, 10, 10,  0,  8, 10,  8,  0, 10,\n",
       "        0, 10,  0, 10,  0, 10], dtype=int32)"
      ]
     },
     "execution_count": 18,
     "metadata": {},
     "output_type": "execute_result"
    }
   ],
   "source": [
    "#Utilizamos ward para generar inicializaciones de centros de clúster (ward_init_centros) y luego aplica el algoritmo de k-medias con estos centros iniciales \n",
    "#para asignar etiquetas de clúster a los datos escalados\n",
    "\n",
    "a = np.argmin(pairwise_distances(ward_baricentros, kmedias_init_centros), axis=1)\n",
    "ward_init_centros = kmedias_init_centros[a]\n",
    "kmedias = KMeans(n_clusters=12, init=ward_init_centros)\n",
    "kmedias.fit(X_scaled)\n",
    "kmedias.labels_"
   ]
  },
  {
   "cell_type": "code",
   "execution_count": 30,
   "id": "f02bf3ce",
   "metadata": {},
   "outputs": [
    {
     "data": {
      "text/plain": [
       "0.8952380952380953"
      ]
     },
     "execution_count": 30,
     "metadata": {},
     "output_type": "execute_result"
    }
   ],
   "source": [
    "# Vamos a utilizar la moda de las etiquetas de clase en cada clúster como una forma de asignar etiquetas de clase \n",
    "#a los puntos de datos dentro de esos clústeres y luego evalúa la precisión en comparación con las etiquetas reales.\n",
    "\n",
    "moda = -1*np.ones(12, dtype=int)\n",
    "for c in range(12):\n",
    "    moda[c] = mode(y[kmedias.labels_ == c])\n",
    "y_predict = moda[kmedias.labels_]\n",
    "accuracy_kmedias_init = accuracy_score(y_predict, y)\n",
    "accuracy_kmedias_init"
   ]
  },
  {
   "cell_type": "markdown",
   "id": "78012d05",
   "metadata": {},
   "source": [
    "# Kmedoids"
   ]
  },
  {
   "cell_type": "code",
   "execution_count": 20,
   "id": "724bfc3f",
   "metadata": {},
   "outputs": [
    {
     "data": {
      "text/plain": [
       "array([10, 10,  1,  8, 10,  8,  1,  1,  5,  5,  7,  8,  1,  1,  1,  1,  6,\n",
       "       10,  8,  4,  1,  1, 10, 11, 10, 10,  4, 11,  1,  1,  8,  5,  1,  8,\n",
       "       10,  5,  5,  5,  1,  6,  8,  8, 11,  7,  1,  8, 10,  1,  1, 10,  1,\n",
       "        7,  1,  1,  8, 10,  1, 10, 10, 11, 11, 11,  4,  4, 11, 11,  8,  8,\n",
       "        8,  4,  7,  7,  7,  3,  7,  7,  7,  0,  0,  5,  7,  0,  0,  3,  3,\n",
       "        3,  3,  3,  0,  0,  3,  3,  3,  0,  0,  7,  3,  3,  3,  3,  7,  3,\n",
       "        0,  3,  3,  3,  3,  3,  3,  3,  3,  3,  3,  0,  0,  3,  0,  3,  3,\n",
       "        3,  0,  3,  7,  3,  5,  0,  0,  3,  3,  7,  3,  3,  7,  7,  7,  1,\n",
       "        7,  5,  5,  7,  6,  6,  6,  9,  4,  9, 11,  4,  4,  9,  9,  2,  4,\n",
       "        4,  4,  9,  4,  4,  4,  9, 11,  4,  4,  4,  9, 11,  4,  4,  4,  4,\n",
       "        2,  2,  4,  9,  9,  9,  9,  9,  9, 11,  9,  4,  4,  9,  6,  4,  9,\n",
       "        9,  2,  9,  9,  4,  4,  9,  4,  4,  6,  6,  4, 11,  9, 11,  4,  2,\n",
       "        4,  4,  4,  2,  4,  9])"
      ]
     },
     "execution_count": 20,
     "metadata": {},
     "output_type": "execute_result"
    }
   ],
   "source": [
    "kmediodes = KMedoids(n_clusters=12, init='k-medoids++')\n",
    "kmediodes.fit(X)\n",
    "kmediodes.labels_"
   ]
  },
  {
   "cell_type": "code",
   "execution_count": 32,
   "id": "129a6841",
   "metadata": {},
   "outputs": [
    {
     "data": {
      "text/plain": [
       "0.9"
      ]
     },
     "execution_count": 32,
     "metadata": {},
     "output_type": "execute_result"
    }
   ],
   "source": [
    "#from scipy.stats import mode as sp_mode \n",
    "moda = -1 * np.ones(12, dtype=int)\n",
    "for c in range(12):\n",
    "    #moda[c] = sp_mode(y[np.argwhere(kmediodes.labels_ == c)])[0][0].astype(int)\n",
    "    moda[c] = mode(y[kmediodes.labels_ == c])\n",
    "y_predict = moda[kmediodes.labels_]\n",
    "accuracy_kmedoides = accuracy_score(y_predict, y)\n",
    "accuracy_kmedoides"
   ]
  },
  {
   "cell_type": "markdown",
   "id": "8e3da36f",
   "metadata": {},
   "source": [
    "# DBSCAN"
   ]
  },
  {
   "cell_type": "code",
   "execution_count": 22,
   "id": "d785cc88",
   "metadata": {},
   "outputs": [
    {
     "data": {
      "text/plain": [
       "array([-1,  0,  1,  2,  3,  4,  5,  6,  7,  8,  9, 10, 11])"
      ]
     },
     "execution_count": 22,
     "metadata": {},
     "output_type": "execute_result"
    }
   ],
   "source": [
    "dbscan = DBSCAN(eps=0.5, min_samples=3)\n",
    "dbscan.fit(X_scaled)\n",
    "np.unique(dbscan.labels_)"
   ]
  },
  {
   "cell_type": "code",
   "execution_count": 23,
   "id": "578f61a2",
   "metadata": {},
   "outputs": [
    {
     "data": {
      "text/plain": [
       "150"
      ]
     },
     "execution_count": 23,
     "metadata": {},
     "output_type": "execute_result"
    }
   ],
   "source": [
    "np.sum(dbscan.labels_ == -1)"
   ]
  },
  {
   "cell_type": "code",
   "execution_count": 24,
   "id": "9b1048e0",
   "metadata": {},
   "outputs": [
    {
     "data": {
      "text/plain": [
       "0.95"
      ]
     },
     "execution_count": 24,
     "metadata": {},
     "output_type": "execute_result"
    }
   ],
   "source": [
    "# Eliminamos los puntos aislados\n",
    "k = np.max(dbscan.labels_)+1\n",
    "y_dbscan = y[dbscan.labels_ != -1]\n",
    "clusters_dbscan = dbscan.labels_[dbscan.labels_ != -1]\n",
    "\n",
    "moda = -1 * np.ones(k, dtype=int)\n",
    "for i in range(k):\n",
    "    moda[i] = mode(y_dbscan[clusters_dbscan == i])\n",
    "y_test_predict = moda[clusters_dbscan]\n",
    "accuracy_score(y_dbscan, y_test_predict)"
   ]
  },
  {
   "cell_type": "code",
   "execution_count": 25,
   "id": "50796300",
   "metadata": {},
   "outputs": [
    {
     "name": "stderr",
     "output_type": "stream",
     "text": [
      "/tmp/ipykernel_7405/1879813905.py:41: FutureWarning: this method is deprecated in favour of `Styler.hide(axis='index')`\n",
      "  styled_df.hide_index()\n"
     ]
    },
    {
     "data": {
      "text/html": [
       "<style type=\"text/css\">\n",
       "#T_64c5f th {\n",
       "  text-align: center;\n",
       "  font-weight: bold;\n",
       "}\n",
       "#T_64c5f td {\n",
       "  text-align: center;\n",
       "}\n",
       "</style>\n",
       "<table id=\"T_64c5f\">\n",
       "  <thead>\n",
       "    <tr>\n",
       "      <th id=\"T_64c5f_level0_col0\" class=\"col_heading level0 col0\" >eps</th>\n",
       "      <th id=\"T_64c5f_level0_col1\" class=\"col_heading level0 col1\" >num_clusters</th>\n",
       "      <th id=\"T_64c5f_level0_col2\" class=\"col_heading level0 col2\" >accuracy</th>\n",
       "    </tr>\n",
       "  </thead>\n",
       "  <tbody>\n",
       "    <tr>\n",
       "      <td id=\"T_64c5f_row0_col0\" class=\"data row0 col0\" >0.500000</td>\n",
       "      <td id=\"T_64c5f_row0_col1\" class=\"data row0 col1\" >12</td>\n",
       "      <td id=\"T_64c5f_row0_col2\" class=\"data row0 col2\" >0.950000</td>\n",
       "    </tr>\n",
       "    <tr>\n",
       "      <td id=\"T_64c5f_row1_col0\" class=\"data row1 col0\" >0.625000</td>\n",
       "      <td id=\"T_64c5f_row1_col1\" class=\"data row1 col1\" >10</td>\n",
       "      <td id=\"T_64c5f_row1_col2\" class=\"data row1 col2\" >0.960938</td>\n",
       "    </tr>\n",
       "    <tr>\n",
       "      <td id=\"T_64c5f_row2_col0\" class=\"data row2 col0\" >0.750000</td>\n",
       "      <td id=\"T_64c5f_row2_col1\" class=\"data row2 col1\" >6</td>\n",
       "      <td id=\"T_64c5f_row2_col2\" class=\"data row2 col2\" >0.710843</td>\n",
       "    </tr>\n",
       "    <tr>\n",
       "      <td id=\"T_64c5f_row3_col0\" class=\"data row3 col0\" >0.875000</td>\n",
       "      <td id=\"T_64c5f_row3_col1\" class=\"data row3 col1\" >2</td>\n",
       "      <td id=\"T_64c5f_row3_col2\" class=\"data row3 col2\" >0.380208</td>\n",
       "    </tr>\n",
       "    <tr>\n",
       "      <td id=\"T_64c5f_row4_col0\" class=\"data row4 col0\" >1.000000</td>\n",
       "      <td id=\"T_64c5f_row4_col1\" class=\"data row4 col1\" >1</td>\n",
       "      <td id=\"T_64c5f_row4_col2\" class=\"data row4 col2\" >0.338308</td>\n",
       "    </tr>\n",
       "  </tbody>\n",
       "</table>\n"
      ],
      "text/plain": [
       "<pandas.io.formats.style.Styler at 0x7f7eaa976790>"
      ]
     },
     "execution_count": 25,
     "metadata": {},
     "output_type": "execute_result"
    }
   ],
   "source": [
    "# Definir los valores de eps que quieres probar\n",
    "eps_values = np.linspace(0.5, 1.0, 5)\n",
    "\n",
    "# Inicializar una lista para almacenar los resultados\n",
    "results = []\n",
    "\n",
    "# Iterar sobre los valores de eps\n",
    "for eps in eps_values:\n",
    "    dbscan = DBSCAN(eps=eps, min_samples=3)\n",
    "    dbscan.fit(X_scaled)\n",
    "\n",
    "    k = np.max(dbscan.labels_) + 1\n",
    "    y_dbscan = y[dbscan.labels_ != -1]\n",
    "    clusters_dbscan = dbscan.labels_[dbscan.labels_ != -1]\n",
    "\n",
    "    moda = -1 * np.ones(k, dtype=int)\n",
    "    for i in range(k):\n",
    "        moda[i] = mode(y_dbscan[clusters_dbscan == i])\n",
    "\n",
    "    y_test_predict = moda[clusters_dbscan]\n",
    "    accuracy = accuracy_score(y_dbscan, y_test_predict)\n",
    "\n",
    "    # Almacenar los resultados en un diccionario\n",
    "    result_entry = {\n",
    "        'eps': eps,\n",
    "        'num_clusters': k,\n",
    "        'accuracy': accuracy\n",
    "    }\n",
    "    results.append(result_entry)\n",
    "\n",
    "# Crear un DataFrame a partir de la lista de resultados\n",
    "results_df = pd.DataFrame(results)\n",
    "\n",
    "# Aplicar formato para centrar los datos y poner los títulos en negrita\n",
    "styled_df = results_df.style.set_table_styles([\n",
    "    {'selector': 'th', 'props': [('text-align', 'center'), ('font-weight', 'bold')]},\n",
    "    {'selector': 'td', 'props': [('text-align', 'center')]},\n",
    "])\n",
    "\n",
    "# Mostrar el DataFrame sin índice a la izquierda\n",
    "styled_df.hide_index()\n"
   ]
  }
 ],
 "metadata": {
  "kernelspec": {
   "display_name": "Python 3 (ipykernel)",
   "language": "python",
   "name": "python3"
  },
  "language_info": {
   "codemirror_mode": {
    "name": "ipython",
    "version": 3
   },
   "file_extension": ".py",
   "mimetype": "text/x-python",
   "name": "python",
   "nbconvert_exporter": "python",
   "pygments_lexer": "ipython3",
   "version": "3.9.13"
  }
 },
 "nbformat": 4,
 "nbformat_minor": 5
}
